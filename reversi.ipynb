{
 "cells": [
  {
   "cell_type": "markdown",
   "metadata": {},
   "source": [
    "# 作業二 Reversi"
   ]
  },
  {
   "cell_type": "code",
   "execution_count": 139,
   "metadata": {},
   "outputs": [],
   "source": [
    "import numpy as np\n",
    "import time\n",
    "import logging\n",
    "from opponents import Opponent\n",
    "from Board import Board"
   ]
  },
  {
   "cell_type": "code",
   "execution_count": 141,
   "metadata": {},
   "outputs": [],
   "source": [
    "NUM_RUNS = 15"
   ]
  },
  {
   "cell_type": "code",
   "execution_count": 142,
   "metadata": {},
   "outputs": [],
   "source": [
    "from player import Player"
   ]
  },
  {
   "cell_type": "code",
   "execution_count": 143,
   "metadata": {},
   "outputs": [
    {
     "name": "stdout",
     "output_type": "stream",
     "text": [
      "Player Go Second -> X\n",
      " O   Win：37\n",
      " X  Loss : 26\n",
      "Player Go First  -> O\n",
      " X  Win : 34\n",
      " O Loss : 22\n",
      "Player Go Second -> X\n",
      " O   Win：36\n",
      " X  Loss : 26\n",
      "Player Go First  -> O\n",
      " X  Win : 41\n",
      " O Loss : 23\n",
      "Player Go Second -> X\n",
      " O   Win：35\n",
      " X  Loss : 29\n",
      "Player Go First  -> O\n",
      " X  Win : 34\n",
      " O Loss : 30\n",
      "Player Go Second -> X\n",
      " X  Win : 43\n",
      " O Loss : 20\n",
      "Player Go First  -> O\n",
      " X  Win : 34\n",
      " O Loss : 30\n",
      "Player Go Second -> X\n",
      " X  Win : 47\n",
      " O Loss : 16\n",
      "Player Go First  -> O\n",
      " X  Win : 41\n",
      " O Loss : 20\n",
      "Player Go Second -> X\n",
      " X  Win : 42\n",
      " O Loss : 21\n",
      "Player Go First  -> O\n",
      " X  Win : 39\n",
      " O Loss : 25\n",
      "Player Go Second -> X\n",
      " X  Win : 35\n",
      " O Loss : 29\n",
      "Player Go First  -> O\n",
      " O   Win：36\n",
      " X  Loss : 28\n",
      "Player Go Second -> X\n",
      " X  Win : 35\n",
      " O Loss : 28\n",
      "Player Win : 6, Loss 9 ,Draw : 0\n"
     ]
    }
   ],
   "source": [
    "opponent = Opponent('random')\n",
    "player = Player()\n",
    "b = Board(player, opponent)\n",
    "result = []\n",
    "player_loss = 0 \n",
    "draw = 0\n",
    "\n",
    "for i in range(NUM_RUNS):\n",
    "    player_first = i%2\n",
    "    if player_first:\n",
    "        print(f\"Player Go First  -> O\")\n",
    "    else:\n",
    "        print(f\"Player Go Second -> X\")\n",
    "        \n",
    "    res,state,step = b.play(player_first=player_first)\n",
    "    result.append(res)\n",
    "   \n",
    "\n",
    "    if (state == 1):\n",
    "        if player_first:\n",
    "            player_loss += 1\n",
    "        print(f\" X  Win : {max(step)}\")\n",
    "        print(f\" O Loss : {min(step)}\")     \n",
    "    if (state== -1):\n",
    "        if not player_first:\n",
    "            player_loss += 1\n",
    "        print(f\" O   Win：{max(step)}\")\n",
    "        print(f\" X  Loss : {min(step)}\")\n",
    "    if (state == 0):\n",
    "        draw += 1\n",
    "        print(f\"Draw ：{step[0]}\")\n",
    "        print(\"\\n\")   \n",
    "        \n",
    "        \n",
    "result = np.array(result)\n",
    "print(f\"Player Win : {NUM_RUNS - result.sum() - draw}, Loss {result.sum()} ,Draw : {draw}\")"
   ]
  },
  {
   "cell_type": "code",
   "execution_count": null,
   "metadata": {},
   "outputs": [],
   "source": []
  },
  {
   "cell_type": "code",
   "execution_count": null,
   "metadata": {},
   "outputs": [],
   "source": []
  }
 ],
 "metadata": {
  "kernelspec": {
   "display_name": "Python 3",
   "language": "python",
   "name": "python3"
  },
  "language_info": {
   "codemirror_mode": {
    "name": "ipython",
    "version": 3
   },
   "file_extension": ".py",
   "mimetype": "text/x-python",
   "name": "python",
   "nbconvert_exporter": "python",
   "pygments_lexer": "ipython3",
   "version": "3.7.9"
  }
 },
 "nbformat": 4,
 "nbformat_minor": 4
}